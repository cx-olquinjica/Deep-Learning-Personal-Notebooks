{
 "cells": [
  {
   "cell_type": "code",
   "execution_count": 1,
   "id": "0eb0dbb8",
   "metadata": {},
   "outputs": [],
   "source": [
    "%matplotlib inline\n",
    "import torch\n",
    "from d2l import torch as d2l"
   ]
  },
  {
   "cell_type": "code",
   "execution_count": null,
   "id": "00c01772",
   "metadata": {},
   "outputs": [],
   "source": [
    "class LinearRegressionScratch(d2l.Module):\n",
    "    \"\"\"The linear regression model implemented from scratch.\"\"\"\n",
    "    def __init__(self, num_inputs, lr, sigma=0.01):\n",
    "        super().__init__()\n",
    "        self.save_hyperparameters()\n",
    "        self.w = torch.normal(0, sigma, (num_inputs, 1), requires_grad=True)\n",
    "        self.b = torch.zeros(1, requires_grad = True)\n",
    "        "
   ]
  },
  {
   "cell_type": "code",
   "execution_count": null,
   "id": "f985ebb3",
   "metadata": {},
   "outputs": [],
   "source": [
    "@d2l.add_to_class(LinearRegressionScratch)\n",
    "def loss(y_hat, y):\n",
    "    l = (y_hat - y) **2 / 2\n",
    "    return l.mean()\n",
    "# one import thing here is that whatever function we use to call\n",
    "# to call this, it will do only once... .but what about the data batch???B"
   ]
  },
  {
   "cell_type": "code",
   "execution_count": null,
   "id": "d15621b4",
   "metadata": {},
   "outputs": [],
   "source": [
    "\"\"\"\"At each step, using a minibatch randomly drawn form our dataset,\n",
    "we estimate the gradient of the loss with respect to the parameters\n",
    "\"\"\""
   ]
  },
  {
   "cell_type": "code",
   "execution_count": null,
   "id": "400fdc81",
   "metadata": {},
   "outputs": [],
   "source": [
    "\"\"\"The following code applies the update, given a set of parameters\n",
    "a learning rate. \"\"\""
   ]
  },
  {
   "cell_type": "code",
   "execution_count": null,
   "id": "cbdd7baf",
   "metadata": {},
   "outputs": [],
   "source": [
    "class SGD(d2l.HyperParameters):\n",
    "    def __init__(self, params, lr):\n",
    "        self.save_hyperparameters()\n",
    "    def step(self):\n",
    "        for param in self.params:\n",
    "            param -= self.lr * param.grad"
   ]
  }
 ],
 "metadata": {
  "kernelspec": {
   "display_name": "Python 3 (ipykernel)",
   "language": "python",
   "name": "python3"
  },
  "language_info": {
   "codemirror_mode": {
    "name": "ipython",
    "version": 3
   },
   "file_extension": ".py",
   "mimetype": "text/x-python",
   "name": "python",
   "nbconvert_exporter": "python",
   "pygments_lexer": "ipython3",
   "version": "3.9.16"
  }
 },
 "nbformat": 4,
 "nbformat_minor": 5
}
