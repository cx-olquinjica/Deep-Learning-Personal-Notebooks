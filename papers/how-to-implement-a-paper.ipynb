{
 "cells": [
  {
   "cell_type": "markdown",
   "id": "6ec6e776",
   "metadata": {},
   "source": [
    "# Tips on how to implement a paper in PyTorch: \n",
    "\n",
    "\n",
    "1) [PyTorch Paper Replicating from Zero to Mastery Learn PyTorch for Deep Learning](https://www.learnpytorch.io/08_pytorch_paper_replicating/)\n",
    "    - Note: \n",
    "        - Paper: An Image is Worth 16x16 Words: Transformers for Image Recognition at Scale (the paper that introduced the ViT archiecture)\n",
    "        - [YouTube Video](https://www.learnpytorch.io/08_pytorch_paper_replicating/)\n",
    "        \n",
    "2) Misclellanous: \n",
    "    * [Learn To Reproduce Papers: Beginner's Guide](https://towardsdatascience.com/learn-to-reproduce-papers-beginners-guide-2b4bff8fcca0)\n",
    "    * [Tips on how my Git repo will look when I start implementing papers](https://github.com/jaygala24/pytorch-implementations)"
   ]
  }
 ],
 "metadata": {
  "kernelspec": {
   "display_name": "Python 3 (ipykernel)",
   "language": "python",
   "name": "python3"
  },
  "language_info": {
   "codemirror_mode": {
    "name": "ipython",
    "version": 3
   },
   "file_extension": ".py",
   "mimetype": "text/x-python",
   "name": "python",
   "nbconvert_exporter": "python",
   "pygments_lexer": "ipython3",
   "version": "3.9.16"
  }
 },
 "nbformat": 4,
 "nbformat_minor": 5
}
