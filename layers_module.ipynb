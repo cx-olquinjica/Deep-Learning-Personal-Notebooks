{
 "cells": [
  {
   "cell_type": "markdown",
   "id": "34fdfcd6",
   "metadata": {},
   "source": [
    "# Layers and Modules"
   ]
  },
  {
   "cell_type": "code",
   "execution_count": 1,
   "id": "08ea9852",
   "metadata": {},
   "outputs": [],
   "source": [
    "import torch\n",
    "from torch import nn\n",
    "from torch.nn import functional as F"
   ]
  },
  {
   "cell_type": "markdown",
   "id": "0d490ea4",
   "metadata": {},
   "source": [
    "The following code generates a network with one fully connected hidden layer with 256 units and ReLU activation, followed by a fully connected output layer with 10 units(no activation function)."
   ]
  },
  {
   "cell_type": "code",
   "execution_count": 2,
   "id": "66d20f52",
   "metadata": {},
   "outputs": [
    {
     "name": "stderr",
     "output_type": "stream",
     "text": [
      "/Users/admin/miniconda3/envs/d2l/lib/python3.9/site-packages/torch/nn/modules/lazy.py:180: UserWarning: Lazy modules are a new feature under heavy development so changes to the API or functionality can happen at any moment.\n",
      "  warnings.warn('Lazy modules are a new feature under heavy development '\n"
     ]
    },
    {
     "data": {
      "text/plain": [
       "torch.Size([2, 10])"
      ]
     },
     "execution_count": 2,
     "metadata": {},
     "output_type": "execute_result"
    }
   ],
   "source": [
    "net = nn.Sequential(nn.LazyLinear(25), nn.ReLU(), nn.LazyLinear(10))\n",
    "X = torch.rand(2, 20)\n",
    "net(X).shape"
   ]
  },
  {
   "cell_type": "markdown",
   "id": "8b9b20bc",
   "metadata": {},
   "source": [
    "### Now implementing the same module from scratch"
   ]
  },
  {
   "cell_type": "code",
   "execution_count": 8,
   "id": "05cf9bde",
   "metadata": {},
   "outputs": [],
   "source": [
    "class MLP(nn.Module):\n",
    "    def __init__(self):\n",
    "        # calling the constructor of the parent class nn.Module to perform\n",
    "        # the necessary  initialization\n",
    "        super().__init__()\n",
    "        self.hidden = nn.LazyLinear(256)\n",
    "        self.out = nn.LazyLinear(10)\n",
    "        \n",
    "        # Define the forward propagation of the mode, that is, how to return \n",
    "        # the required model output based on the input X\n",
    "    def forward(self, X):\n",
    "         return self.out(F.relu(self.hidden(X)))"
   ]
  },
  {
   "cell_type": "code",
   "execution_count": 9,
   "id": "ca02fb08",
   "metadata": {},
   "outputs": [
    {
     "data": {
      "text/plain": [
       "torch.Size([2, 10])"
      ]
     },
     "execution_count": 9,
     "metadata": {},
     "output_type": "execute_result"
    }
   ],
   "source": [
    "net = MLP()\n",
    "net(X).shape"
   ]
  },
  {
   "cell_type": "markdown",
   "id": "1d98df0e",
   "metadata": {},
   "source": [
    "## How does torch.nn.Sequential class work?"
   ]
  },
  {
   "cell_type": "markdown",
   "id": "04ce070e",
   "metadata": {},
   "source": [
    "To build our own simplified MySequential, we just need to define two key methods: \n",
    "\n",
    "- A method to append modules one by one to a list\n",
    "- A forward propagation method to pass an input through the chain of modules, in the same order as they were appended. "
   ]
  },
  {
   "cell_type": "code",
   "execution_count": 10,
   "id": "44aeddbb",
   "metadata": {},
   "outputs": [],
   "source": [
    "class MySequential(nn.Module):\n",
    "    def __init__(self, *args):\n",
    "        super().__init__()\n",
    "        for idx, module in enumerate(args):\n",
    "            self.add_module(str(idx), module)\n",
    "    def forward(self, X):\n",
    "        for module in self.children():\n",
    "            X = module(X)\n",
    "        return X"
   ]
  },
  {
   "cell_type": "code",
   "execution_count": 11,
   "id": "724d7e60",
   "metadata": {},
   "outputs": [
    {
     "data": {
      "text/plain": [
       "torch.Size([2, 10])"
      ]
     },
     "execution_count": 11,
     "metadata": {},
     "output_type": "execute_result"
    }
   ],
   "source": [
    "net = MySequential(nn.LazyLinear(256), nn.ReLU(), nn.LazyLinear(10))\n",
    "net(X).shape"
   ]
  },
  {
   "cell_type": "code",
   "execution_count": null,
   "id": "ffa537a9",
   "metadata": {},
   "outputs": [],
   "source": []
  }
 ],
 "metadata": {
  "kernelspec": {
   "display_name": "Python 3 (ipykernel)",
   "language": "python",
   "name": "python3"
  },
  "language_info": {
   "codemirror_mode": {
    "name": "ipython",
    "version": 3
   },
   "file_extension": ".py",
   "mimetype": "text/x-python",
   "name": "python",
   "nbconvert_exporter": "python",
   "pygments_lexer": "ipython3",
   "version": "3.9.16"
  }
 },
 "nbformat": 4,
 "nbformat_minor": 5
}
