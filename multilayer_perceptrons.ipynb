{
 "cells": [
  {
   "cell_type": "markdown",
   "id": "0af78e3f",
   "metadata": {},
   "source": [
    "# Foundations of Neural Networks and Deep Learning"
   ]
  },
  {
   "cell_type": "markdown",
   "id": "3d50ef38",
   "metadata": {},
   "source": [
    "Neural networkds are a computational model that shares some properties with the animal brain in which many simple units are working in parallel with no centralized control unit. <br>\n",
    "\n",
    "The behaviour of neural networks is shaped by its network architecture. A network's architecture can be defined (in part) by the following:\n",
    "\n",
    "- Numbers of Neurons\n",
    "- Number of layers\n",
    "- Types of connections between layers"
   ]
  },
  {
   "cell_type": "markdown",
   "id": "65a3b523",
   "metadata": {},
   "source": [
    "## The Biological Neuron "
   ]
  },
  {
   "cell_type": "markdown",
   "id": "294f21c7",
   "metadata": {},
   "source": [
    "The biological neuron is a nerve cell that provides the fundamental functional unit for the nervous systems of all animals. Neurons exist to communicate with one another, and pass electro-chemical impulses across synapses, from one cell\n",
    "to the next, as long as the impulse is strong enough to activate the release of chemicals across a synaptic cleft. The strength of the impulse must surpass a minimum threshold or chemicals will not be released."
   ]
  },
  {
   "cell_type": "markdown",
   "id": "d21ab40e",
   "metadata": {},
   "source": [
    "The major parts of the nerve cell:\n",
    "\n",
    "- Soma\n",
    "- Dendrites\n",
    "- Axons\n",
    "- Synapses"
   ]
  },
  {
   "cell_type": "markdown",
   "id": "b71f3190",
   "metadata": {},
   "source": [
    "## The Perceptron"
   ]
  },
  {
   "cell_type": "markdown",
   "id": "e1f567e5",
   "metadata": {},
   "source": [
    "The perceptron is a linear model used for binary classification. In the field of neural networks the perceptron is considered an artificial neuron using the Heaviside stepfunction for the activation function."
   ]
  },
  {
   "cell_type": "markdown",
   "id": "fc269bfc",
   "metadata": {},
   "source": [
    "# 5.2 Implementation of Multilayer Perceptrons"
   ]
  },
  {
   "cell_type": "code",
   "execution_count": 1,
   "id": "c6efddc0",
   "metadata": {},
   "outputs": [],
   "source": [
    "import torch \n",
    "from torch import nn\n",
    "from d2l import torch as d2l"
   ]
  },
  {
   "cell_type": "markdown",
   "id": "6212bffc",
   "metadata": {},
   "source": [
    "## 5.2.1.1. Initializing Model Parameters"
   ]
  },
  {
   "cell_type": "markdown",
   "id": "64aa75a7",
   "metadata": {},
   "source": [
    "We will implement an MLP with one hidden layer and 256 hidden units. Both the number of layers and their width are adjustable(they are considered hyperparameters). "
   ]
  },
  {
   "cell_type": "code",
   "execution_count": 2,
   "id": "8857a078",
   "metadata": {},
   "outputs": [],
   "source": [
    "class MLPScratch(d2l.Classifier):\n",
    "    def __init__(self, num_inputs, num_outputs, num_hiddens, lr, sigma=0.01):\n",
    "        super().__init__()\n",
    "        self.save_hyperparameters()\n",
    "        self.W1 = nn.Parameter(torch.randn(num_inputs, num_hiddens) * sigma)\n",
    "        self.b1 = nn.Parameter(torch.zeros(num_hiddens))\n",
    "        self.W2 = nn.Parameter(torch.randn(num_hiddens, num_outputs) * sigma)\n",
    "        self.b2 = nn.Parameter(torch.zeros(num_outputs))\n",
    "        "
   ]
  },
  {
   "cell_type": "code",
   "execution_count": null,
   "id": "dc1c66e0",
   "metadata": {},
   "outputs": [],
   "source": []
  }
 ],
 "metadata": {
  "kernelspec": {
   "display_name": "Python 3 (ipykernel)",
   "language": "python",
   "name": "python3"
  },
  "language_info": {
   "codemirror_mode": {
    "name": "ipython",
    "version": 3
   },
   "file_extension": ".py",
   "mimetype": "text/x-python",
   "name": "python",
   "nbconvert_exporter": "python",
   "pygments_lexer": "ipython3",
   "version": "3.8.13"
  }
 },
 "nbformat": 4,
 "nbformat_minor": 5
}
