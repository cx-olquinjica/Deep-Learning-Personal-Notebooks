{
 "cells": [
  {
   "cell_type": "markdown",
   "id": "dc217c8d",
   "metadata": {},
   "source": [
    "# Weight Decay"
   ]
  },
  {
   "cell_type": "code",
   "execution_count": 1,
   "id": "ba5855b5",
   "metadata": {},
   "outputs": [],
   "source": [
    "%matplotlib inline\n",
    "import torch\n",
    "from torch import nn \n",
    "from d2l import torch as d2l"
   ]
  },
  {
   "cell_type": "markdown",
   "id": "8f6190ac",
   "metadata": {},
   "source": [
    "Rather than directly manipulating the number of parameters, weight decay, operates by restrictign the values that the parameters can take. More commonly called l2 regularization outside of deep leanring circles when optmized by minibatch stochastic gradient descent, weight decay might be the most widely used technique for regularizing parametric machine learning models. The technique is motivated by the basic intuition that among all functions f, the function f = 0 (i.e assigning the value 0 to all inputs) is in some sense the __simplest__, __and that we can measure the complexity of a function by the distance of its parameters from zero.__ There's no single right answer. In fact, entire bracnhes of mathematics, including of functional analysis and the theory of Banach spaces, are devoted to addressing such issues. "
   ]
  },
  {
   "cell_type": "markdown",
   "id": "93343ead",
   "metadata": {},
   "source": [
    "The most common method for ensuring a small weight vector is to add its norm as a penalty term to the problem of minimizing the loss. Thus we replace our original objective, minimizing the prediction loss on the training labels, with new objective, mimimizing the usm of the prediction loss and the penalty term. "
   ]
  },
  {
   "cell_type": "code",
   "execution_count": null,
   "id": "eea72b3d",
   "metadata": {},
   "outputs": [],
   "source": []
  }
 ],
 "metadata": {
  "kernelspec": {
   "display_name": "Python 3 (ipykernel)",
   "language": "python",
   "name": "python3"
  },
  "language_info": {
   "codemirror_mode": {
    "name": "ipython",
    "version": 3
   },
   "file_extension": ".py",
   "mimetype": "text/x-python",
   "name": "python",
   "nbconvert_exporter": "python",
   "pygments_lexer": "ipython3",
   "version": "3.9.16"
  }
 },
 "nbformat": 4,
 "nbformat_minor": 5
}
