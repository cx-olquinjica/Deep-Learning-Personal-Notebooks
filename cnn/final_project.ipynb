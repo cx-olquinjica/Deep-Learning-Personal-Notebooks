{
 "cells": [
  {
   "cell_type": "markdown",
   "id": "64b7cd7a",
   "metadata": {},
   "source": [
    "# Final Project"
   ]
  },
  {
   "cell_type": "markdown",
   "id": "8b12bd75",
   "metadata": {},
   "source": [
    "This notebook will be used for my final project involving the training from scratch of a convolutional neural net. This final project will be used as a way to cement my understanding of Convolutional Neural Nets. It is an endeavor motivated ultimately by the famous blog post by Andrej Karpathy called [A Recipe for Training Neural Networks](http://karpathy.github.io/2019/04/25/recipe/)."
   ]
  },
  {
   "cell_type": "markdown",
   "id": "eb0c40de",
   "metadata": {},
   "source": [
    "## TODO:\n",
    "\n",
    "* Design a CNN using SOTA architecture\n",
    "* Use this CNN to solve  a classification problem using object, personalities, places, animals, and other items that better identify a region or country\n",
    "* Gather your own dataset/curate it yourself\n",
    "* Outro:\n",
    "    - Create a CLIs available on github to help others train the model\n",
    "    - (maybe) turn it into a python package that can be installed via _pip_\n",
    "    - Reuse the dataset from tasks such as Object detection, Image segmentation, etc\n",
    "    - Turn into into a small website or mobile app\n",
    "\n",
    "To be continued..."
   ]
  }
 ],
 "metadata": {
  "kernelspec": {
   "display_name": "Python 3 (ipykernel)",
   "language": "python",
   "name": "python3"
  },
  "language_info": {
   "codemirror_mode": {
    "name": "ipython",
    "version": 3
   },
   "file_extension": ".py",
   "mimetype": "text/x-python",
   "name": "python",
   "nbconvert_exporter": "python",
   "pygments_lexer": "ipython3",
   "version": "3.8.6"
  }
 },
 "nbformat": 4,
 "nbformat_minor": 5
}
