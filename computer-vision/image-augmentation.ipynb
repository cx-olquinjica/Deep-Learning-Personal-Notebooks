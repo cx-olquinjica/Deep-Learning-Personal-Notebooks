{
 "cells": [
  {
   "cell_type": "markdown",
   "id": "dd38c292",
   "metadata": {},
   "source": [
    "# Image Augmentation"
   ]
  },
  {
   "cell_type": "markdown",
   "id": "e8264f34",
   "metadata": {},
   "source": [
    "__Image Augmentation__ generates similar but distinct training examples after a series of random changes to the training images, thereby expanding the size of the training set. Other motivations for image augmentation include: \n",
    "\n",
    "  * Random tweaks of training examples allow models to rely less on certain attributes, thereby improving their generalization ability. \n",
    "    \n",
    "   * We can crop an image in different ways to make the object of interest appear in different positions, thereby reducing the dependece of a model on the position of the object.\n",
    "    \n",
    "   * We can also adjust factors such as brightness and color to reduce a model's sensivity to color. "
   ]
  },
  {
   "cell_type": "markdown",
   "id": "ee22c2ef",
   "metadata": {},
   "source": [
    "### NOTE: \n",
    "\n",
    "* Learn torchvision.transforms.Compose()\n",
    "* Practice all the augmentation techniques here with another image\n",
    "* Image augmentation generates random images based on existing training data to improve the generalization ability of models.\n",
    "* In order to obtain definitive results during prediction, we usually only apply image augmentation to training examples, and do not use image augmentation with random operations during prediction.\n",
    "* Deep learning frameworks provide many different image augmentation methods, which can be applied simultaneously.\n"
   ]
  }
 ],
 "metadata": {
  "kernelspec": {
   "display_name": "Python 3 (ipykernel)",
   "language": "python",
   "name": "python3"
  },
  "language_info": {
   "codemirror_mode": {
    "name": "ipython",
    "version": 3
   },
   "file_extension": ".py",
   "mimetype": "text/x-python",
   "name": "python",
   "nbconvert_exporter": "python",
   "pygments_lexer": "ipython3",
   "version": "3.9.16"
  }
 },
 "nbformat": 4,
 "nbformat_minor": 5
}
