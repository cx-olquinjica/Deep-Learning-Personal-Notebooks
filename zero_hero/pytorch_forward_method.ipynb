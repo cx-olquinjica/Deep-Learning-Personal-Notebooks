{
 "cells": [
  {
   "cell_type": "markdown",
   "id": "77126562",
   "metadata": {},
   "source": [
    "# Understanding PyTorch forward method"
   ]
  },
  {
   "cell_type": "markdown",
   "id": "e8618237",
   "metadata": {},
   "source": [
    "The forward method of a model (or class) is not explicitly called by the user. Instead, __it is invoked implicitly when the model object is called as a function.__"
   ]
  },
  {
   "cell_type": "markdown",
   "id": "e0a17551",
   "metadata": {},
   "source": [
    "Here's how the forward method is executed in PyTorch:\n",
    "\n",
    "1. __Create an Instance__: First, an instance of the model class, such as _model = TransformerEncoderBlock(...)_, is created. This initializes the model's parameters and constructs the model architecture.\n",
    "2. __Input Data__: The input data is prepared in the appropriate format expected by the model. This usually involves converting the input data into PyTorch tensors. \n",
    "3. __Call the Model__: To execute the model and perform the forward pass, _the instance of the model is called as function, passing the input data as arguments._ For example, _output = model(input-data)_. \n",
    "4. __Execution of forward__: When the model is called, it internally invokes the _forward method_. The input data is passed as an argument to the forward method. \n",
    "5. __Computation flow__: Inside the _forward method_, the input data flows through the defined computations and layers of the model. The specific computations depend on the architecture and implementation of the model.\n",
    "6. __Output__: The _forward method_ returns the output of the computation. This can be the final predictions, itermediate representations, or any other relevant information derived from the input data.\n",
    "7. __End of Execution__: Once the forward method completes, the output is returned to the cadller of the model, and ther forward pass is finished. \n",
    "\n",
    "Therefore, the _forward method_ is executed implicitly when the model instance is called as function. This allows the input data to flow through the model's computations, producing the desired input."
   ]
  }
 ],
 "metadata": {
  "kernelspec": {
   "display_name": "Python 3 (ipykernel)",
   "language": "python",
   "name": "python3"
  },
  "language_info": {
   "codemirror_mode": {
    "name": "ipython",
    "version": 3
   },
   "file_extension": ".py",
   "mimetype": "text/x-python",
   "name": "python",
   "nbconvert_exporter": "python",
   "pygments_lexer": "ipython3",
   "version": "3.9.16"
  }
 },
 "nbformat": 4,
 "nbformat_minor": 5
}
