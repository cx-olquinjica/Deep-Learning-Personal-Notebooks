{
 "cells": [
  {
   "cell_type": "markdown",
   "id": "48f1a72a",
   "metadata": {},
   "source": [
    "# PyTorch Fundamentals: \n",
    "\n",
    "* Introduction to Tensors\n",
    "* Creating Tensors\n",
    "* Getting information from tensors\n",
    "* Manipulating Tensors\n",
    "* Dealing with tensor shapes\n",
    "* Indexing on tensors\n",
    "* Mixing Pytorch tensors and Numpy\n",
    "* Reproducibility\n",
    "* Running Tensors on GPU"
   ]
  },
  {
   "cell_type": "code",
   "execution_count": 2,
   "id": "77d34865",
   "metadata": {},
   "outputs": [
    {
     "data": {
      "text/plain": [
       "'1.13.1'"
      ]
     },
     "execution_count": 2,
     "metadata": {},
     "output_type": "execute_result"
    }
   ],
   "source": [
    "import torch\n",
    "torch.__version__"
   ]
  },
  {
   "cell_type": "markdown",
   "id": "b92006c7",
   "metadata": {},
   "source": [
    "## Creating Tensors"
   ]
  },
  {
   "cell_type": "code",
   "execution_count": 3,
   "id": "c9729547",
   "metadata": {},
   "outputs": [
    {
     "data": {
      "text/plain": [
       "tensor(7)"
      ]
     },
     "execution_count": 3,
     "metadata": {},
     "output_type": "execute_result"
    }
   ],
   "source": [
    "# scalar\n",
    "scalar = torch.tensor(7)\n",
    "scalar"
   ]
  }
 ],
 "metadata": {
  "kernelspec": {
   "display_name": "Python 3 (ipykernel)",
   "language": "python",
   "name": "python3"
  },
  "language_info": {
   "codemirror_mode": {
    "name": "ipython",
    "version": 3
   },
   "file_extension": ".py",
   "mimetype": "text/x-python",
   "name": "python",
   "nbconvert_exporter": "python",
   "pygments_lexer": "ipython3",
   "version": "3.9.16"
  }
 },
 "nbformat": 4,
 "nbformat_minor": 5
}
