{
 "cells": [
  {
   "cell_type": "markdown",
   "id": "fd42676b",
   "metadata": {},
   "source": [
    "# Comparison Between Optimization Algorithm and when to use which"
   ]
  },
  {
   "cell_type": "markdown",
   "id": "9e1eb073",
   "metadata": {},
   "source": [
    "After I am done reading all the contents of the chapter 12, I will be writing the est practices and comparisons between optimization algorithms.\n"
   ]
  },
  {
   "cell_type": "markdown",
   "id": "e27f8b6a",
   "metadata": {},
   "source": [
    "## Gradient Descent\n",
    "## Stochastic Gradient Descent\n",
    "## Mini-Batch Stochastic Gradient Descent\n",
    "## (Momentum)\n",
    "## Adagrad\n",
    "## RMSProp\n",
    "## Adadelta\n",
    "## Adam\n",
    "## Learning Rate Scheduling"
   ]
  }
 ],
 "metadata": {
  "kernelspec": {
   "display_name": "Python 3 (ipykernel)",
   "language": "python",
   "name": "python3"
  },
  "language_info": {
   "codemirror_mode": {
    "name": "ipython",
    "version": 3
   },
   "file_extension": ".py",
   "mimetype": "text/x-python",
   "name": "python",
   "nbconvert_exporter": "python",
   "pygments_lexer": "ipython3",
   "version": "3.9.16"
  }
 },
 "nbformat": 4,
 "nbformat_minor": 5
}
