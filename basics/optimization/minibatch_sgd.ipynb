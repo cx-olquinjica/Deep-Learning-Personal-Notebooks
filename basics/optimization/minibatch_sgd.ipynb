{
 "cells": [
  {
   "cell_type": "markdown",
   "id": "9250b426",
   "metadata": {},
   "source": [
    "# Minibatch Stochastic Gradient Descent"
   ]
  },
  {
   "cell_type": "markdown",
   "id": "b9e953ee",
   "metadata": {},
   "source": [
    "## Drawbacks: \n",
    "\n",
    "### (Naive) Gradient Descent: \n",
    "* Gradient descent is not particularly _data efficient_, whenever data is very similar\n",
    "\n",
    "### Stochastic Gradient Descent: \n",
    "* SGD is not particularly _computationally efficient_ since CPUs and GPUs cannot exploit the full power of vectorization.\n",
    "\n",
    "This suggests that there might be somethign in between, and in fact Minibatch SGD takes the best of both worlds!"
   ]
  },
  {
   "cell_type": "markdown",
   "id": "7a7d3561",
   "metadata": {},
   "source": [
    "## Vectorization and Caches\n",
    "\n",
    "__At the heart of the decision to use minibatches is computational efficiency__. This is most easily understood when considering parallelization to multiple GPUs and multiple servers. In this case we need to send at least one image to each GPU. With 8 GPUs per server and 16 servers we already arrive at a minibatch size no smaller than 128."
   ]
  },
  {
   "cell_type": "code",
   "execution_count": 1,
   "id": "936ce60c",
   "metadata": {},
   "outputs": [],
   "source": [
    "%matplotlib inline\n",
    "import time\n",
    "import numpy as np\n",
    "import torch\n",
    "from torch import nn\n",
    "from d2l import torch as d2l\n",
    "\n",
    "A = torch.zeros(256, 256)\n",
    "B = torch.randn(256, 256)\n",
    "C = torch.randn(256, 256)"
   ]
  },
  {
   "cell_type": "markdown",
   "id": "3ab58042",
   "metadata": {},
   "source": [
    "# Class for benchmarking running time"
   ]
  },
  {
   "cell_type": "code",
   "execution_count": 2,
   "id": "d7a2e093",
   "metadata": {},
   "outputs": [],
   "source": [
    "class Timer:  #@save\n",
    "    \"\"\"Record multiple running times.\"\"\"\n",
    "    def __init__(self):\n",
    "        self.times = []\n",
    "        self.start()\n",
    "\n",
    "    def start(self):\n",
    "        \"\"\"Start the timer.\"\"\"\n",
    "        self.tik = time.time()\n",
    "\n",
    "    def stop(self):\n",
    "        \"\"\"Stop the timer and record the time in a list.\"\"\"\n",
    "        self.times.append(time.time() - self.tik)\n",
    "        return self.times[-1]\n",
    "\n",
    "    def avg(self):\n",
    "        \"\"\"Return the average time.\"\"\"\n",
    "        return sum(self.times) / len(self.times)\n",
    "\n",
    "    def sum(self):\n",
    "        \"\"\"Return the sum of time.\"\"\"\n",
    "        return sum(self.times)\n",
    "\n",
    "    def cumsum(self):\n",
    "        \"\"\"Return the accumulated time.\"\"\"\n",
    "        return np.array(self.times).cumsum().tolist()\n",
    "\n",
    "timer = Timer()"
   ]
  },
  {
   "cell_type": "code",
   "execution_count": 3,
   "id": "70bc692d",
   "metadata": {},
   "outputs": [
    {
     "data": {
      "text/plain": [
       "0.6620998382568359"
      ]
     },
     "execution_count": 3,
     "metadata": {},
     "output_type": "execute_result"
    }
   ],
   "source": [
    "# Compute A = BC one element at a time\n",
    "timer.start()\n",
    "for i in range(256):\n",
    "    for j in range(256):\n",
    "        A[i, j] = torch.dot(B[i, :], C[:, j])\n",
    "timer.stop()"
   ]
  },
  {
   "cell_type": "code",
   "execution_count": 4,
   "id": "153862b1",
   "metadata": {},
   "outputs": [
    {
     "data": {
      "text/plain": [
       "0.010849952697753906"
      ]
     },
     "execution_count": 4,
     "metadata": {},
     "output_type": "execute_result"
    }
   ],
   "source": [
    "# Compute A = BC one column at a time\n",
    "timer.start()\n",
    "for j in range(256):\n",
    "    A[:, j] = torch.mv(B, C[:, j])\n",
    "timer.stop()"
   ]
  },
  {
   "cell_type": "code",
   "execution_count": 5,
   "id": "20b5a8fe",
   "metadata": {},
   "outputs": [
    {
     "name": "stdout",
     "output_type": "stream",
     "text": [
      "performance in Gigaflops: element 0.045, column 2.765, full 3.848\n"
     ]
    }
   ],
   "source": [
    "# Compute A = BC in one go\n",
    "timer.start()\n",
    "A = torch.mm(B, C)\n",
    "timer.stop()\n",
    "\n",
    "gigaflops = [0.03 / i for i in timer.times]\n",
    "print(f'performance in Gigaflops: element {gigaflops[0]:.3f}, '\n",
    "      f'column {gigaflops[1]:.3f}, full {gigaflops[2]:.3f}')"
   ]
  },
  {
   "cell_type": "markdown",
   "id": "8f50b3ba",
   "metadata": {},
   "source": [
    "## Papers to read during the Weekend!!!!!\n",
    "\n",
    "* [What Every Programmer Shoud Know About Memory by Ulrich Drepper](https://people.freebsd.org/~lstewart/articles/cpumemory.pdf)\n",
    "* [What Every Programmer Shoud Know About Memory MADE SIMPLE](https://lwn.net/Articles/250967/)\n",
    "* [What Every Computer Scientist Should Know About Floating-Point Arithmetic PDF](https://docs.oracle.com/cd/E19957-01/800-7895/800-7895.pdf)\n",
    "    - [What Every Programmer Should Know About Floating-Point Arithmetic or Why don't my numbers add up](https://floating-point-gui.de) \n",
    "* [Cache Hierachy](https://en.wikipedia.org/wiki/Cache_hierarchy)"
   ]
  },
  {
   "cell_type": "markdown",
   "id": "c3b556f9",
   "metadata": {},
   "source": [
    "## Minibatches"
   ]
  },
  {
   "cell_type": "code",
   "execution_count": 6,
   "id": "6370097a",
   "metadata": {},
   "outputs": [
    {
     "name": "stdout",
     "output_type": "stream",
     "text": [
      "performance in Gigaflops: block 6.177\n"
     ]
    }
   ],
   "source": [
    "timer.start()\n",
    "for j in range(0, 256, 64):\n",
    "    A[:, j:j+64] = torch.mm(B, C[:, j:j+64])\n",
    "timer.stop()\n",
    "print(f'performance in Gigaflops: block {0.03 / timer.times[3]:.3f}')"
   ]
  }
 ],
 "metadata": {
  "kernelspec": {
   "display_name": "Python 3 (ipykernel)",
   "language": "python",
   "name": "python3"
  },
  "language_info": {
   "codemirror_mode": {
    "name": "ipython",
    "version": 3
   },
   "file_extension": ".py",
   "mimetype": "text/x-python",
   "name": "python",
   "nbconvert_exporter": "python",
   "pygments_lexer": "ipython3",
   "version": "3.9.16"
  }
 },
 "nbformat": 4,
 "nbformat_minor": 5
}
