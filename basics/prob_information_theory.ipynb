{
 "cells": [
  {
   "cell_type": "markdown",
   "id": "9a9e0c92",
   "metadata": {},
   "source": [
    "# Probability and Information Theory"
   ]
  },
  {
   "cell_type": "markdown",
   "id": "9ca14ca8",
   "metadata": {},
   "source": [
    "## Questions:\n",
    "\n",
    "* Cross-Entropy?\n",
    "* Maximum Likelihood?\n",
    "* Relation between output units and Probability Distributions?\n",
    "* The Learning: Learning a conditional probability distribution?\n",
    "* What is convex optimization? And why is it important in Machine Learning?"
   ]
  }
 ],
 "metadata": {
  "kernelspec": {
   "display_name": "Python 3 (ipykernel)",
   "language": "python",
   "name": "python3"
  },
  "language_info": {
   "codemirror_mode": {
    "name": "ipython",
    "version": 3
   },
   "file_extension": ".py",
   "mimetype": "text/x-python",
   "name": "python",
   "nbconvert_exporter": "python",
   "pygments_lexer": "ipython3",
   "version": "3.9.16"
  }
 },
 "nbformat": 4,
 "nbformat_minor": 5
}
