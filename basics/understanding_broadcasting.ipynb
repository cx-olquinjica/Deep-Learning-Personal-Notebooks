{
 "cells": [
  {
   "cell_type": "code",
   "execution_count": 1,
   "id": "414136c7",
   "metadata": {},
   "outputs": [],
   "source": [
    "import torch"
   ]
  },
  {
   "cell_type": "code",
   "execution_count": 3,
   "id": "4aba752d",
   "metadata": {},
   "outputs": [
    {
     "data": {
      "text/plain": [
       "(tensor([[0],\n",
       "         [1],\n",
       "         [2]]),\n",
       " tensor([[0, 1]]))"
      ]
     },
     "execution_count": 3,
     "metadata": {},
     "output_type": "execute_result"
    }
   ],
   "source": [
    "a = torch.arange(3).reshape(3, 1)\n",
    "b = torch.arange(2).reshape(1, 2)\n",
    "a, b"
   ]
  },
  {
   "cell_type": "markdown",
   "id": "57375417",
   "metadata": {},
   "source": [
    "Since a and b are 3 x 1 and 1 x 2 mattrices, respectively, theri shapes do not match up. Broadcasting produces a larger 3 x 2 matrix by replicating matrix a along the colums and matrix b along the rows before adding them elementwise."
   ]
  },
  {
   "cell_type": "code",
   "execution_count": 4,
   "id": "a0692253",
   "metadata": {},
   "outputs": [
    {
     "data": {
      "text/plain": [
       "tensor([[0, 1],\n",
       "        [1, 2],\n",
       "        [2, 3]])"
      ]
     },
     "execution_count": 4,
     "metadata": {},
     "output_type": "execute_result"
    }
   ],
   "source": [
    "a + b"
   ]
  },
  {
   "cell_type": "markdown",
   "id": "8665f8af",
   "metadata": {},
   "source": [
    "## What is Broadcasting?\n",
    "\n",
    "In the context of deep learning, we sometimes use less conventional notation. We allows the addition of a matrix and a vector: C = A + b where Cij = Aij + b. In other words the vector b is added to each row of the matrix. "
   ]
  },
  {
   "cell_type": "code",
   "execution_count": 7,
   "id": "e2a487b4",
   "metadata": {},
   "outputs": [
    {
     "data": {
      "text/plain": [
       "tensor([[0, 1],\n",
       "        [2, 3],\n",
       "        [4, 5]])"
      ]
     },
     "execution_count": 7,
     "metadata": {},
     "output_type": "execute_result"
    }
   ],
   "source": [
    "C = torch.arange(6).reshape(3, 2)\n",
    "C"
   ]
  },
  {
   "cell_type": "code",
   "execution_count": 8,
   "id": "0930d490",
   "metadata": {},
   "outputs": [
    {
     "data": {
      "text/plain": [
       "tensor([[0, 1]])"
      ]
     },
     "execution_count": 8,
     "metadata": {},
     "output_type": "execute_result"
    }
   ],
   "source": [
    "b "
   ]
  },
  {
   "cell_type": "code",
   "execution_count": 9,
   "id": "fbda7fa5",
   "metadata": {},
   "outputs": [
    {
     "data": {
      "text/plain": [
       "tensor([[0, 2],\n",
       "        [2, 4],\n",
       "        [4, 6]])"
      ]
     },
     "execution_count": 9,
     "metadata": {},
     "output_type": "execute_result"
    }
   ],
   "source": [
    "C + b"
   ]
  },
  {
   "cell_type": "markdown",
   "id": "a100a6ae",
   "metadata": {},
   "source": [
    "Creating another vector jus to clearly see this idea of the vector being added to each row of the matrix. Not forgetting that the resulting vector actually maintains the original matrix size or shape."
   ]
  },
  {
   "cell_type": "code",
   "execution_count": 10,
   "id": "47343942",
   "metadata": {},
   "outputs": [],
   "source": [
    "d = torch.arange(1, 3)"
   ]
  },
  {
   "cell_type": "code",
   "execution_count": 11,
   "id": "a5289f31",
   "metadata": {},
   "outputs": [
    {
     "data": {
      "text/plain": [
       "tensor([[0, 1],\n",
       "        [2, 3],\n",
       "        [4, 5]])"
      ]
     },
     "execution_count": 11,
     "metadata": {},
     "output_type": "execute_result"
    }
   ],
   "source": [
    "C"
   ]
  },
  {
   "cell_type": "code",
   "execution_count": 12,
   "id": "05a53b49",
   "metadata": {},
   "outputs": [
    {
     "data": {
      "text/plain": [
       "tensor([1, 2])"
      ]
     },
     "execution_count": 12,
     "metadata": {},
     "output_type": "execute_result"
    }
   ],
   "source": [
    "d"
   ]
  },
  {
   "cell_type": "markdown",
   "id": "f5c49604",
   "metadata": {},
   "source": [
    "Now additing them to check the broadcasting mechanism:"
   ]
  },
  {
   "cell_type": "code",
   "execution_count": 13,
   "id": "320523c4",
   "metadata": {},
   "outputs": [
    {
     "data": {
      "text/plain": [
       "tensor([[1, 3],\n",
       "        [3, 5],\n",
       "        [5, 7]])"
      ]
     },
     "execution_count": 13,
     "metadata": {},
     "output_type": "execute_result"
    }
   ],
   "source": [
    "C + d"
   ]
  },
  {
   "cell_type": "code",
   "execution_count": null,
   "id": "5dd39682",
   "metadata": {},
   "outputs": [],
   "source": []
  }
 ],
 "metadata": {
  "kernelspec": {
   "display_name": "Python 3 (ipykernel)",
   "language": "python",
   "name": "python3"
  },
  "language_info": {
   "codemirror_mode": {
    "name": "ipython",
    "version": 3
   },
   "file_extension": ".py",
   "mimetype": "text/x-python",
   "name": "python",
   "nbconvert_exporter": "python",
   "pygments_lexer": "ipython3",
   "version": "3.9.16"
  }
 },
 "nbformat": 4,
 "nbformat_minor": 5
}
