{
 "cells": [
  {
   "cell_type": "markdown",
   "id": "ef2e2ee0",
   "metadata": {},
   "source": [
    "# Data Preprocessing"
   ]
  },
  {
   "cell_type": "markdown",
   "id": "b53aa092",
   "metadata": {},
   "source": [
    "So far, we have been working with synthetic data that arrived in ready-made tensors. However, to apply deep leanring in the wild we must extract messy data stored in arbitray formats, and preproces it to suit oru needs. Fortunately, the pandas library does most of the heavy lifting for us."
   ]
  },
  {
   "cell_type": "markdown",
   "id": "d8573c2a",
   "metadata": {},
   "source": [
    "## Reading the Dataset"
   ]
  },
  {
   "cell_type": "code",
   "execution_count": 2,
   "id": "2b4e35d2",
   "metadata": {},
   "outputs": [],
   "source": [
    "import os\n",
    "\n",
    "os.makedirs(os.path.join('..', 'data'), exist_ok=True)\n",
    "data_file = os.path.join('..', 'data', 'house_tiny.csv')\n",
    "with open(data_file, 'w') as f:\n",
    "    f.write('''NumRooms, RoofType, Price\n",
    "    NA, NA, 127500\n",
    "    2, NA, 106000\n",
    "    4, Slate, 178100\n",
    "    NA, NA, 14000''')"
   ]
  },
  {
   "cell_type": "code",
   "execution_count": 3,
   "id": "c15fd637",
   "metadata": {},
   "outputs": [
    {
     "name": "stdout",
     "output_type": "stream",
     "text": [
      "  NumRooms  RoofType   Price\n",
      "0       NA        NA  127500\n",
      "1        2        NA  106000\n",
      "2        4     Slate  178100\n",
      "3       NA        NA   14000\n"
     ]
    }
   ],
   "source": [
    "import pandas as pd\n",
    "\n",
    "data = pd.read_csv(data_file)\n",
    "print(data)"
   ]
  },
  {
   "cell_type": "markdown",
   "id": "a7eb3795",
   "metadata": {},
   "source": [
    "## Data Preparation"
   ]
  },
  {
   "cell_type": "markdown",
   "id": "9118aa00",
   "metadata": {},
   "source": [
    "we can select columns either by name or via integer-location based indexing(iloc)"
   ]
  },
  {
   "cell_type": "markdown",
   "id": "68a35762",
   "metadata": {},
   "source": [
    "Missing values are the bed bugs of data science, a persistent menace that you will confront thrught your career. Depending upon the context, missing values might be handled either via imputaion or deletion. Inputation replaces missing values with estimates of their values while deletion simply discards either those rows or those column that contain missing values. "
   ]
  },
  {
   "cell_type": "code",
   "execution_count": 5,
   "id": "bd51c0b6",
   "metadata": {},
   "outputs": [
    {
     "name": "stdout",
     "output_type": "stream",
     "text": [
      "   NumRooms_    2  NumRooms_    4  NumRooms_    NA  NumRooms_nan  \\\n",
      "0               0               0                1             0   \n",
      "1               1               0                0             0   \n",
      "2               0               1                0             0   \n",
      "3               0               0                1             0   \n",
      "\n",
      "    RoofType_ NA   RoofType_ Slate   RoofType_nan  \n",
      "0              1                 0              0  \n",
      "1              1                 0              0  \n",
      "2              0                 1              0  \n",
      "3              1                 0              0  \n"
     ]
    }
   ],
   "source": [
    "inputs, targets = data.iloc[:, 0:2], data.iloc[:, 2]\n",
    "inputs = pd.get_dummies(inputs, dummy_na=True)\n",
    "print(inputs)"
   ]
  },
  {
   "cell_type": "code",
   "execution_count": 6,
   "id": "b1b5f396",
   "metadata": {},
   "outputs": [
    {
     "name": "stdout",
     "output_type": "stream",
     "text": [
      "   NumRooms_    2  NumRooms_    4  NumRooms_    NA  NumRooms_nan  \\\n",
      "0               0               0                1             0   \n",
      "1               1               0                0             0   \n",
      "2               0               1                0             0   \n",
      "3               0               0                1             0   \n",
      "\n",
      "    RoofType_ NA   RoofType_ Slate   RoofType_nan  \n",
      "0              1                 0              0  \n",
      "1              1                 0              0  \n",
      "2              0                 1              0  \n",
      "3              1                 0              0  \n"
     ]
    }
   ],
   "source": [
    "inputs = inputs.fillna(inputs.mean())\n",
    "print(inputs)"
   ]
  },
  {
   "cell_type": "code",
   "execution_count": 8,
   "id": "a8a36426",
   "metadata": {},
   "outputs": [
    {
     "data": {
      "text/plain": [
       "(tensor([[0, 0, 1, 0, 1, 0, 0],\n",
       "         [1, 0, 0, 0, 1, 0, 0],\n",
       "         [0, 1, 0, 0, 0, 1, 0],\n",
       "         [0, 0, 1, 0, 1, 0, 0]], dtype=torch.uint8),\n",
       " tensor([127500, 106000, 178100,  14000]))"
      ]
     },
     "execution_count": 8,
     "metadata": {},
     "output_type": "execute_result"
    }
   ],
   "source": [
    "import torch\n",
    "X, y = torch.tensor(inputs.values), torch.tensor(targets.values)\n",
    "X, y"
   ]
  },
  {
   "cell_type": "code",
   "execution_count": null,
   "id": "4b16fc9f",
   "metadata": {},
   "outputs": [],
   "source": []
  }
 ],
 "metadata": {
  "kernelspec": {
   "display_name": "Python 3 (ipykernel)",
   "language": "python",
   "name": "python3"
  },
  "language_info": {
   "codemirror_mode": {
    "name": "ipython",
    "version": 3
   },
   "file_extension": ".py",
   "mimetype": "text/x-python",
   "name": "python",
   "nbconvert_exporter": "python",
   "pygments_lexer": "ipython3",
   "version": "3.9.16"
  }
 },
 "nbformat": 4,
 "nbformat_minor": 5
}
