{
 "cells": [
  {
   "cell_type": "markdown",
   "id": "a79fec78",
   "metadata": {},
   "source": [
    "# Object Oriented-Design"
   ]
  },
  {
   "cell_type": "markdown",
   "id": "5f71d7c8",
   "metadata": {},
   "source": [
    "## I. Classes"
   ]
  },
  {
   "cell_type": "markdown",
   "id": "680bc279",
   "metadata": {},
   "source": [
    "Jusst like every other __Object Oriented__ Programming language Python supporsts classes. Let's look at some points on Python classes."
   ]
  },
  {
   "cell_type": "markdown",
   "id": "04a1cb9c",
   "metadata": {},
   "source": [
    "- Classes are created by keyword __class__. <br>\n",
    "- Attributes are the variables that belong to class. <br>\n",
    "- Attributes are always public and can be accessed using dot (.) operator. <br>\n",
    " Eg: Myclass.Myattribute\n"
   ]
  },
  {
   "cell_type": "code",
   "execution_count": 1,
   "id": "dc28e2f4",
   "metadata": {},
   "outputs": [],
   "source": [
    "# creates a class named MyClass\n",
    "\n",
    "class MyClass:\n",
    "    # assign the values to the MyClass attributes\n",
    "    number = 0\n",
    "    name = \"noname\""
   ]
  },
  {
   "cell_type": "code",
   "execution_count": 2,
   "id": "21b182a1",
   "metadata": {},
   "outputs": [],
   "source": [
    "def Main():\n",
    "    # creating an object of the MyClass.\n",
    "    # here 'me' is the object\n",
    "    me = MyClass()\n",
    "    \n",
    "    # accessing the attributes of MyClass\n",
    "    # using the dot(.) operator\n",
    "    me.number = 1337\n",
    "    me.name = \"Harssh\"\n",
    "    \n",
    "    print(me.name + \" \" + str(me.number))\n"
   ]
  },
  {
   "cell_type": "code",
   "execution_count": 4,
   "id": "fa94bf71",
   "metadata": {},
   "outputs": [
    {
     "name": "stdout",
     "output_type": "stream",
     "text": [
      "Harssh 1337\n"
     ]
    }
   ],
   "source": [
    "if __name__== '__main__':\n",
    "    Main()"
   ]
  },
  {
   "cell_type": "markdown",
   "id": "fc6a4f1e",
   "metadata": {},
   "source": [
    "## II. Methods"
   ]
  },
  {
   "cell_type": "markdown",
   "id": "64a6a164",
   "metadata": {},
   "source": [
    "- Function that belongs to a class is called a _method_. <br>\n",
    "- All methods require '__self__' parameter. It is like '__this__' in Java. You can think of '__self__' as the keyword which is used for the current object. It unhides the current instance variable. <br>"
   ]
  },
  {
   "cell_type": "markdown",
   "id": "92f0b67a",
   "metadata": {},
   "source": [
    "- '__def__' keyword is used to create a new method. "
   ]
  },
  {
   "cell_type": "markdown",
   "id": "7702d470",
   "metadata": {},
   "source": [
    "Example:"
   ]
  },
  {
   "cell_type": "code",
   "execution_count": 5,
   "id": "7588cf55",
   "metadata": {},
   "outputs": [],
   "source": [
    "class Vector2D:\n",
    "    x = 0.0\n",
    "    y = 0.0\n",
    "    \n",
    "    def Set(self, x, y):\n",
    "        self.x = x \n",
    "        self.y = y"
   ]
  },
  {
   "cell_type": "code",
   "execution_count": 6,
   "id": "567f5ac0",
   "metadata": {},
   "outputs": [],
   "source": [
    "def Main():\n",
    "        # vec is an object of class Vector2D\n",
    "        vec = Vector2D()   \n",
    "         \n",
    "        # Passing values to the function Set\n",
    "        # by using dot(.) operator.\n",
    "        vec.Set(5, 6)       \n",
    "        print(\"X: \" + str(vec.x) + \", Y: \" + str(vec.y))"
   ]
  },
  {
   "cell_type": "code",
   "execution_count": 7,
   "id": "7c00c438",
   "metadata": {},
   "outputs": [
    {
     "name": "stdout",
     "output_type": "stream",
     "text": [
      "X: 5, Y: 6\n"
     ]
    }
   ],
   "source": [
    "if __name__=='__main__':\n",
    "        Main()"
   ]
  },
  {
   "cell_type": "markdown",
   "id": "4566cd9e",
   "metadata": {},
   "source": [
    "## III. Inheritance"
   ]
  },
  {
   "cell_type": "markdown",
   "id": "cfa65d20",
   "metadata": {},
   "source": [
    "_Inheritance_ is defined as a way in which a particular class inherits features from its base class. Base class is also known as __'Superclass'__ and the class which inherits from the Superclass in known as __'Subclass'__. "
   ]
  },
  {
   "cell_type": "markdown",
   "id": "0811049d",
   "metadata": {},
   "source": [
    "#syntax for inheritance <br>\n",
    "__class__ _derived-classname_ (superclass-name):"
   ]
  },
  {
   "cell_type": "code",
   "execution_count": 8,
   "id": "feaaed5e",
   "metadata": {},
   "outputs": [],
   "source": [
    "# A python program to demostrate working of inheritance\n",
    "class Pet:\n",
    "    def __init__(self, name, age):\n",
    "        self.name = name\n",
    "        self.age = age\n",
    "\n",
    "# class Cat inheriting from the class Pet\n",
    "class Cat(Pet):\n",
    "    def __init__(self, name, age):\n",
    "        # calling the super-class function __init__\n",
    "        # using super() function \n",
    "        super().__init__(name, age)"
   ]
  },
  {
   "cell_type": "code",
   "execution_count": 9,
   "id": "f7d12c46",
   "metadata": {},
   "outputs": [],
   "source": [
    "def Main():\n",
    "    thePet = Pet(\"Pet\", 1)\n",
    "    jess = Cat (\"Jess\", 3)\n",
    "    \n",
    "    # isinstance() function to check whether an object is \n",
    "    # the specified type.\n",
    "    # isinstance(object, type)\n",
    "    print(\"Is jess a cat? \" + str(isinstance(jess, Cat)))\n",
    "    print(\"Is jess a pet? \" + str(isinstance(jess, Pet)))\n",
    "    print(\"Is the pet a cat? \" +str(isinstance(thePet, Cat)))\n",
    "    print(\"Is thePet a Pet? \" + str(isinstance(thePet, Cat)))\n",
    "    print(jess.name)"
   ]
  },
  {
   "cell_type": "code",
   "execution_count": 10,
   "id": "727756f7",
   "metadata": {},
   "outputs": [
    {
     "name": "stdout",
     "output_type": "stream",
     "text": [
      "Is jess a cat? True\n",
      "Is jess a pet? True\n",
      "Is the pet a cat? False\n",
      "Is thePet a Pet? False\n",
      "Jess\n"
     ]
    }
   ],
   "source": [
    "if __name__ == '__main__':\n",
    "    Main()"
   ]
  },
  {
   "cell_type": "markdown",
   "id": "f74af8fe",
   "metadata": {},
   "source": [
    "## IV. Iterators"
   ]
  },
  {
   "cell_type": "markdown",
   "id": "8e81a474",
   "metadata": {},
   "source": [
    "__Iterators__ are objects that can be iterated upon. <br>\n",
    "- Python uses the '--iter--()' method to return an iterator object of the class. <br>\n",
    "- The iterator object then uses the --next--() method to get the next item. <br>\n",
    "- For loops stops when StopIteraton Exception is raised."
   ]
  },
  {
   "cell_type": "markdown",
   "id": "8b3fb1e1",
   "metadata": {},
   "source": [
    "In other words, an __iterator__ is an object that contains a countable number of values. <br>\n",
    "An iterator is an object that can be iterated upon, meaning that you can traverse through all the values. <br>\n"
   ]
  },
  {
   "cell_type": "code",
   "execution_count": 12,
   "id": "7c9244e1",
   "metadata": {},
   "outputs": [],
   "source": [
    "# this program will reverse the string that is passed \n",
    "# to it from the main function\n",
    "\n",
    "class Reverse:\n",
    "    def __init__(self, data):\n",
    "        self.data = data\n",
    "        self.index = len(data)\n",
    "    def __iter__(self):\n",
    "        return self\n",
    "    \n",
    "    def __next__(self):\n",
    "        if self.index == 0:\n",
    "            raise StopIteration\n",
    "        self.index -= 1 \n",
    "        return self.data[self.index]"
   ]
  },
  {
   "cell_type": "code",
   "execution_count": 13,
   "id": "24712dd6",
   "metadata": {},
   "outputs": [],
   "source": [
    "def Main():\n",
    "    rev = Reverse('Drapsicle')\n",
    "    for char in rev:\n",
    "        print(char)"
   ]
  },
  {
   "cell_type": "code",
   "execution_count": 15,
   "id": "eb82f159",
   "metadata": {},
   "outputs": [
    {
     "name": "stdout",
     "output_type": "stream",
     "text": [
      "e\n",
      "l\n",
      "c\n",
      "i\n",
      "s\n",
      "p\n",
      "a\n",
      "r\n",
      "D\n"
     ]
    }
   ],
   "source": [
    "if __name__ == '__main__':\n",
    "    Main()"
   ]
  },
  {
   "cell_type": "markdown",
   "id": "41558b87",
   "metadata": {},
   "source": [
    "## V. Generators"
   ]
  },
  {
   "cell_type": "markdown",
   "id": "3ded2b61",
   "metadata": {},
   "source": [
    "- Another way of creating iterators. <br>\n",
    "- Uses a function rather than a separate class.<br>\n",
    "- Generates the background code for the next() and iter() methods. <br>\n",
    "- Uses a special statement called __yield__ which saves the state of teh generator and set a resume point for when next() is called again. "
   ]
  },
  {
   "cell_type": "code",
   "execution_count": 16,
   "id": "d3340028",
   "metadata": {},
   "outputs": [],
   "source": [
    "def Reverse(data):\n",
    "    # this is like counting from 100 to 1 taking one(-1)\n",
    "    # step backward\n",
    "    for index in range(len(data)-1, -1, -1):\n",
    "        yield data[index]"
   ]
  },
  {
   "cell_type": "code",
   "execution_count": 17,
   "id": "fad9bd21",
   "metadata": {},
   "outputs": [],
   "source": [
    "def Main():\n",
    "    rev = Reverse('Harssh')\n",
    "    for char in rev:\n",
    "        print(char)\n",
    "    data = 'Harssh'\n",
    "    print(list(data[i] for i in range(len(data)-1, -1, -1)))\n",
    "    "
   ]
  },
  {
   "cell_type": "code",
   "execution_count": 18,
   "id": "003da390",
   "metadata": {},
   "outputs": [
    {
     "name": "stdout",
     "output_type": "stream",
     "text": [
      "h\n",
      "s\n",
      "s\n",
      "r\n",
      "a\n",
      "H\n",
      "['h', 's', 's', 'r', 'a', 'H']\n"
     ]
    }
   ],
   "source": [
    "if __name__ == \"__main__\":\n",
    "    Main()"
   ]
  },
  {
   "cell_type": "markdown",
   "id": "89c2b3a0",
   "metadata": {},
   "source": [
    "# Lesson II: Class, Object and Members"
   ]
  },
  {
   "cell_type": "markdown",
   "id": "e55ce26a",
   "metadata": {},
   "source": [
    "The main concept of OOPs is to bind the data and the functions that work on that data together as a single unit so that no other part of the code can access this data."
   ]
  },
  {
   "cell_type": "markdown",
   "id": "477ae1d5",
   "metadata": {},
   "source": [
    "## Main Concepts of Object-Oriented Programming(OOPs)"
   ]
  },
  {
   "cell_type": "markdown",
   "id": "4e015a81",
   "metadata": {},
   "source": [
    "- Class <br>\n",
    "- Objects <br>\n",
    "- Polymorphism <br>\n",
    "- Encapsulation <br>\n",
    "- Inheritance <br>\n",
    "- Data Abstraction. "
   ]
  },
  {
   "cell_type": "markdown",
   "id": "96635f2d",
   "metadata": {},
   "source": [
    "### Class "
   ]
  },
  {
   "cell_type": "markdown",
   "id": "8eac18e1",
   "metadata": {},
   "source": [
    "A __Class__ is a collection of objects. A class contains the blueprints or the prototype from which the objects are being created. It is a logical entity that contains some attributes and methods. "
   ]
  },
  {
   "cell_type": "markdown",
   "id": "5ea925f1",
   "metadata": {},
   "source": [
    "### Objects"
   ]
  },
  {
   "cell_type": "markdown",
   "id": "80cece1b",
   "metadata": {},
   "source": [
    "The __Object__ is an entity that has a state and behaviour associated with it. <br>\n",
    "An object consists of: <br>\n",
    "- __State__: It is represented by the attributes of an object. It also reflects the properties of an object.<br>\n",
    "- __Behavior__: It is represented by the methods of an object. It also reflects the response of an object to other objects. <br>\n",
    "- __Identiy__: It gives a unique name to an object and enables one object to interact with other objects. "
   ]
  },
  {
   "cell_type": "markdown",
   "id": "2b915292",
   "metadata": {},
   "source": [
    "### Polymorphism"
   ]
  },
  {
   "cell_type": "markdown",
   "id": "46c978b2",
   "metadata": {},
   "source": [
    "__Polymorphism__ simply means having many forms."
   ]
  },
  {
   "cell_type": "code",
   "execution_count": null,
   "id": "2dca3deb",
   "metadata": {},
   "outputs": [],
   "source": []
  }
 ],
 "metadata": {
  "kernelspec": {
   "display_name": "Python 3 (ipykernel)",
   "language": "python",
   "name": "python3"
  },
  "language_info": {
   "codemirror_mode": {
    "name": "ipython",
    "version": 3
   },
   "file_extension": ".py",
   "mimetype": "text/x-python",
   "name": "python",
   "nbconvert_exporter": "python",
   "pygments_lexer": "ipython3",
   "version": "3.8.13"
  }
 },
 "nbformat": 4,
 "nbformat_minor": 5
}
