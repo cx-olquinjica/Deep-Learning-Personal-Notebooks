{
 "cells": [
  {
   "cell_type": "markdown",
   "id": "527b1826",
   "metadata": {},
   "source": [
    "# Quotes: \n",
    "\n",
    "Ralph Emerson Waldo:\n",
    "   - \"Nothing great was ever achieved without enthusiasm...\" \n",
    "   \n",
    "Steven Wright: \n",
    "   - \"Everywhere is walking distance if you have the time...\"\n",
    "   \n",
    "Lee Hanney:\n",
    "\n",
    "   - \"Exercise to stimulate, not to annihilate. The world wasn't formed in a day, and neither were we. set small goals and build upon them..\"\n",
    "\n",
    "   - \"The Man who loves walking will walk further than the man who loves the destination. When you fall in love with the journey, everything else takes care of itself. Trip, fall, pick yourself up. Get up, learn, do it over again...\"\n"
   ]
  },
  {
   "cell_type": "markdown",
   "id": "3cbcbc5b",
   "metadata": {},
   "source": [
    "# Learning Path: "
   ]
  },
  {
   "cell_type": "markdown",
   "id": "d36a8ea0",
   "metadata": {},
   "source": [
    "1) Basics:\n",
    "    - Linear Neural Networks\n",
    "    - Multilayer Perceptrons\n",
    "    - Builder's guide\n",
    "2) Convolutional Neural Networks\n",
    "    - LeNet ->> DenseNet\n",
    "    - CNNs for Audio and Text (Maybe)\n",
    "3) Review Probability and Information Theory [Deep Learning: Adaptive Computation and Machine Learning Chapter III](hlsjlj) [another link](https://c.d2l.ai/berkeley-stat-157/units/probability.html)\n",
    "\n",
    "        - Estimators, Bias and Variance \n",
    "        - Maximum Likelihood Estimation\n",
    "        - Bayesian Statistics\n",
    "        - Deep FeedForward Networks\n",
    "4) [Deep Learning: Adaptive Computation and Machine Learning Chapter VII](dhhfh)\n",
    "    - Regularization for Deep Learning(apply to CNNs)\n",
    "5) Optimization Algorithm [d2l.ai chapter 12](hfkh) \n",
    "    - Companion: [Deep Learning: Adaptive Computation and Machine Learning Chapter VIII](dhhfh)\n",
    "6) [Deep Learning: Adaptive Computation and Machine Learning Chapter IX](dhhfh)\n",
    "    - Convolutional Neural Networks a Maths perspective\n",
    "7) Computational Performance [d2l.ai chapter 13](hdhlh)\n",
    "8) Computer Vision [d2l.ai chapter 14](hdoh)\n",
    "9) Final Project\n",
    "10) Recurrent Neural Networks [d2l.ai chapter 9-10](hdoh) \n",
    "    - Companion: [Deep Learning: Adaptive Computation and Machine Learning Chapter X](hodj)\n",
    "11) Final Project\n",
    "12) Attention Mechanisms and Transformers [d2l.ai chapter 11](hdoh) \n",
    "13) Natural Language Processing: Pretraining [d2l.ai chapter 15](hdoh) \n",
    "14) NLP: Applications [d2l.ai chapter 16](hdoh) \n",
    "    - RNN \n",
    "    - Transformers\n",
    "15) Final Project (probably the biggest having into account how Large Language Models have become so popular), it will be divided in different sub-projects:\n",
    "    - Transformer in NLP\n",
    "        - Machine Translation\n",
    "        - Document Summarization\n",
    "        - Document Generation\n",
    "    - Transformers in Computer Vision\n",
    "        - Diffusion Models\n",
    "        - Video Understanding\n",
    "16) __Hyperparameter Optimization__ [d2l.ai chapter 19](hdoh)\n",
    "\n",
    "    Obs: The study of this topic can come after CNNs or before the CNNs final project, I want to start training large models from scratch, and I pretend to have on my arsenal all the most important trades of the field. The earlier I am exposed to them, the better. \n",
    "17) __Generative Adversarial Networks__ [d2l.ai chapter 20](hdoh)\n",
    "    - __This can come after the CNN final project__\n",
    "    - Small project\n",
    "18) __Recommender Systems__ [d2l.ai chapter 21](hdoh)\n",
    "    - __This can come before the Transformer final project__\n",
    "    - Small Project + Website\n",
    "19) __Reinforcement Learning__ [d2l.ai chapter 17](hdoh)\n",
    "    - Companion: [Course By David Silver from DeepMind](https://www.davidsilver.uk/teaching/)\n",
    "20) __Gaussian Processes__ [d2l.ai chapter 18](hdoh)\n",
    "    - Why study Gaussian Processes??\n",
    "        * They provide a function space perspective of modelling, which makes understanding a variety of model classes, including deep neural networks, much more approachable\n",
    "        * They have an extraordinary range of applications where they are SOTA, including __active learning__, __hyperparameter learning__, __auto-ML__, and __spatiotemporal regression__\n",
    "        * Over the last few years, algorithmic advances have made Gaussian processes increasingly scalable and relevant, harmonizing with deep learning through frameworks such as [GPyTorch](https://gpytorch.ai)\n",
    "\n",
    "\n",
    "## Important Note: \n",
    "\n",
    "Because of how relevant __Transformers__ have become in current machine learning research, the relative positions of the topics highlighted by __boldface__ notation will probably change, because I will dedicate a huge amount of time working with transformers, and don't intend to neglect these areas. \n",
    "\n",
    "        \n",
    "    "
   ]
  }
 ],
 "metadata": {
  "kernelspec": {
   "display_name": "Python 3 (ipykernel)",
   "language": "python",
   "name": "python3"
  },
  "language_info": {
   "codemirror_mode": {
    "name": "ipython",
    "version": 3
   },
   "file_extension": ".py",
   "mimetype": "text/x-python",
   "name": "python",
   "nbconvert_exporter": "python",
   "pygments_lexer": "ipython3",
   "version": "3.9.16"
  }
 },
 "nbformat": 4,
 "nbformat_minor": 5
}
