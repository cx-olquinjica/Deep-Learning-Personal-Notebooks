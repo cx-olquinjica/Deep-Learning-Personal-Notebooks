{
 "cells": [
  {
   "cell_type": "markdown",
   "id": "bec7a773",
   "metadata": {},
   "source": [
    "# Attention Scoring Functions"
   ]
  },
  {
   "cell_type": "markdown",
   "id": "c10605f3",
   "metadata": {},
   "source": [
    "Distance functions are  slightly more expensive to compute than inner products. As such, with the softmax operation to ensure nonegative attention weights, much of the work has gone into _attention scoring functions_ alphas that are much easier to compute. \n",
    "\n",
    "(__I need to review this concept having into account the previous experiment__)."
   ]
  },
  {
   "cell_type": "code",
   "execution_count": 2,
   "id": "ff313d17",
   "metadata": {},
   "outputs": [],
   "source": [
    "import math\n",
    "import torch \n",
    "from torch import nn\n",
    "from d2l import torch as d2l"
   ]
  },
  {
   "cell_type": "markdown",
   "id": "e72600df",
   "metadata": {},
   "source": [
    "## Dot Product Attention"
   ]
  }
 ],
 "metadata": {
  "kernelspec": {
   "display_name": "Python 3 (ipykernel)",
   "language": "python",
   "name": "python3"
  },
  "language_info": {
   "codemirror_mode": {
    "name": "ipython",
    "version": 3
   },
   "file_extension": ".py",
   "mimetype": "text/x-python",
   "name": "python",
   "nbconvert_exporter": "python",
   "pygments_lexer": "ipython3",
   "version": "3.9.16"
  }
 },
 "nbformat": 4,
 "nbformat_minor": 5
}
