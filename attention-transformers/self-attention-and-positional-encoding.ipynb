{
 "cells": [
  {
   "cell_type": "markdown",
   "id": "9af2324e",
   "metadata": {},
   "source": [
    "# Self-Attention and Positional Encoding"
   ]
  },
  {
   "cell_type": "markdown",
   "id": "a2790540",
   "metadata": {},
   "source": [
    "Prior to the introduction of _attention mechanism_, it was common practice in deep learning to use CNNs or RNNs to encode sequences. However, now with attention mechanisms in the scene, imagine feeding a sequence of tokens into an attention mechanism such that at each step, each token has its own query, keys, and values. Here, when computting the value of a token's representation at the next layer, the token can attent (via its query vector) to aech other toek (matching based on their key vectors). Using the full set of que"
   ]
  }
 ],
 "metadata": {
  "kernelspec": {
   "display_name": "Python 3 (ipykernel)",
   "language": "python",
   "name": "python3"
  },
  "language_info": {
   "codemirror_mode": {
    "name": "ipython",
    "version": 3
   },
   "file_extension": ".py",
   "mimetype": "text/x-python",
   "name": "python",
   "nbconvert_exporter": "python",
   "pygments_lexer": "ipython3",
   "version": "3.9.16"
  }
 },
 "nbformat": 4,
 "nbformat_minor": 5
}
