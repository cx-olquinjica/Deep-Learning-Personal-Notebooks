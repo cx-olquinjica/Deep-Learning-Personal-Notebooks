{
 "cells": [
  {
   "cell_type": "markdown",
   "id": "244455ac",
   "metadata": {},
   "source": [
    "# Gradient Clipping"
   ]
  },
  {
   "cell_type": "markdown",
   "id": "f0623ac4",
   "metadata": {},
   "source": [
    "### Topics To Review: \n",
    "\n",
    "* Section 5.4- Numerical Stability\n",
    "* Deep Learning Chapter 4- Numerical Computation\n",
    "* The implementation of gradient clipping by d2l.ai \n",
    "    - Which is invoked by the fit_epoch method of the d2l.Trainer class (see Section 3.4)\n",
    "    - gradient clipping programming perspective: \n",
    "        - [StackOverflow implementation](https://stackoverflow.com/questions/54716377/how-to-do-gradient-clipping-in-pytorch)\n",
    "        - [Proper way to do gradient clipping/PyTorch Discussion Forum](https://discuss.pytorch.org/t/proper-way-to-do-gradient-clipping/191)\n",
    "        - [PyTorch Official Implentation](https://pytorch.org/docs/stable/generated/torch.nn.utils.clip_grad_norm_.html)\n",
    "* [DeepMind X UCL lecture on RNN](https://www.youtube.com/watch?v=87kLfzmYBy8&t=2044s)"
   ]
  }
 ],
 "metadata": {
  "kernelspec": {
   "display_name": "Python 3 (ipykernel)",
   "language": "python",
   "name": "python3"
  },
  "language_info": {
   "codemirror_mode": {
    "name": "ipython",
    "version": 3
   },
   "file_extension": ".py",
   "mimetype": "text/x-python",
   "name": "python",
   "nbconvert_exporter": "python",
   "pygments_lexer": "ipython3",
   "version": "3.9.16"
  }
 },
 "nbformat": 4,
 "nbformat_minor": 5
}
