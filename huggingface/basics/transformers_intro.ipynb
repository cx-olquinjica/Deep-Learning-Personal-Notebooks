{
 "cells": [
  {
   "cell_type": "markdown",
   "id": "6a2a926c",
   "metadata": {},
   "source": [
    "# Natural Language Processing"
   ]
  },
  {
   "cell_type": "markdown",
   "id": "f771a09f",
   "metadata": {},
   "source": [
    "## What is NLP?\n",
    "\n",
    "__NLP__ is a field of linguistics and machine learning focused on understanding everything related to human language. The aim of NLP tasks is not only to understand single words individually, but to be able to understand the context of those words. \n",
    "\n",
    "List of common NLP tasks: \n",
    "\n",
    "- __Classifying whole sentences:__ Getting the sentiment of a review, detecting if an email is a spam, determining if a sentence is grammatically correct or whether two sentences are logically related or not. \n",
    "\n",
    "- __Classifying each word in a sentence:__ Identifying the grammatical components of a sentence (noun, verb, adjective), or the named entities (person, location, organization). \n",
    "\n",
    "- __Generating text content:__ Completing a prompt with auto-generated text, filling in the blanks in a text with masked words.\n",
    "\n",
    "- __Extracting an answer from a text:__ Given a question and a context, extracting the answer to the question based on the information provided in the context.\n",
    "\n",
    "_ __Generating a new sentence from an input text:__ Translating a text into another language summarizing a text. \n",
    "\n",
    "NLP isn't limited to written text, it also tackles complex challenges in speech recognition and computer vision, such as generating a transcript of an audio sample or a description of an image. \n",
    "\n",
    "### Why is it challenging?\n",
    "\n",
    "Computer don't process information in the same way as humans. For example, when we read the sentence \"I am hungry\", we can easily understand its meaning. Simlarly, given tow sentences suas as \"I am hungry\" and \"I am sad,\" we're able to easily determine how similar they are. For ML models such tasks are really difficult. The text needs to be processed in a way that enables the model to learn from it. And because language is complex, we need to think carefully about how this processing must be done. There has been a lot of research done on how to represent text. "
   ]
  }
 ],
 "metadata": {
  "kernelspec": {
   "display_name": "Python 3 (ipykernel)",
   "language": "python",
   "name": "python3"
  },
  "language_info": {
   "codemirror_mode": {
    "name": "ipython",
    "version": 3
   },
   "file_extension": ".py",
   "mimetype": "text/x-python",
   "name": "python",
   "nbconvert_exporter": "python",
   "pygments_lexer": "ipython3",
   "version": "3.9.16"
  }
 },
 "nbformat": 4,
 "nbformat_minor": 5
}
