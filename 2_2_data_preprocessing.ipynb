{
 "cells": [
  {
   "cell_type": "code",
   "execution_count": 5,
   "id": "83975c90",
   "metadata": {},
   "outputs": [],
   "source": [
    "import os\n",
    "import torch\n",
    "import pandas as pd"
   ]
  },
  {
   "cell_type": "code",
   "execution_count": 3,
   "id": "36566699",
   "metadata": {},
   "outputs": [],
   "source": [
    "os.makedirs(os.path.join('..', 'data'), exist_ok=True)\n",
    "data_file = os.path.join('..', 'data', 'house_tiny.csv')\n",
    "with open(data_file, 'w') as f:\n",
    "    f.write('''NumRooms,RoofType,Price\n",
    "NA,NA,127500\n",
    "2,NA,106000\n",
    "4,Slate,178100\n",
    "NA,NA,140000''')"
   ]
  },
  {
   "cell_type": "code",
   "execution_count": 6,
   "id": "23067a7e",
   "metadata": {},
   "outputs": [
    {
     "name": "stdout",
     "output_type": "stream",
     "text": [
      "   NumRooms RoofType   Price\n",
      "0       NaN      NaN  127500\n",
      "1       2.0      NaN  106000\n",
      "2       4.0    Slate  178100\n",
      "3       NaN      NaN  140000\n"
     ]
    }
   ],
   "source": [
    "data = pd.read_csv(data_file)\n",
    "print(data)"
   ]
  },
  {
   "cell_type": "code",
   "execution_count": 9,
   "id": "87e871b8",
   "metadata": {},
   "outputs": [
    {
     "name": "stdout",
     "output_type": "stream",
     "text": [
      "total 152\r\n",
      "drwxr-xr-x   5 admin  staff    160 Feb  6 14:33 \u001b[1m\u001b[36m.\u001b[m\u001b[m/\r\n",
      "drwxrwxr-x  38 admin  staff   1216 Feb  6 14:30 \u001b[1m\u001b[36m..\u001b[m\u001b[m/\r\n",
      "drwxr-xr-x   4 admin  staff    128 Feb  6 14:27 \u001b[1m\u001b[36m.ipynb_checkpoints\u001b[m\u001b[m/\r\n",
      "-rw-r--r--   1 admin  staff  72827 Feb  6 14:23 2_1_data_manipulation.ipynb\r\n",
      "-rw-r--r--   1 admin  staff   1720 Feb  6 14:33 Untitled.ipynb\r\n"
     ]
    }
   ],
   "source": [
    "ls -al\n"
   ]
  },
  {
   "cell_type": "code",
   "execution_count": 10,
   "id": "3e33a46a",
   "metadata": {},
   "outputs": [
    {
     "name": "stdout",
     "output_type": "stream",
     "text": [
      "/Users/admin/d2l-en/pytorch\n"
     ]
    }
   ],
   "source": [
    "cd ..\n"
   ]
  },
  {
   "cell_type": "code",
   "execution_count": 11,
   "id": "6d02147c",
   "metadata": {},
   "outputs": [
    {
     "name": "stdout",
     "output_type": "stream",
     "text": [
      "total 352\r\n",
      "drwxrwxr-x   38 admin  staff    1216 Feb  6 14:30 \u001b[1m\u001b[36m.\u001b[m\u001b[m/\r\n",
      "drwxr-xr-x    6 admin  staff     192 Feb  6 13:14 \u001b[1m\u001b[36m..\u001b[m\u001b[m/\r\n",
      "drwxr-xr-x    2 admin  staff      64 Feb  6 13:28 \u001b[1m\u001b[36m.ipynb_checkpoints\u001b[m\u001b[m/\r\n",
      "drwxrwxr-x   15 admin  staff     480 Dec 15 09:11 \u001b[1m\u001b[36mchapter_appendix-mathematics-for-deep-learning\u001b[m\u001b[m/\r\n",
      "drwxrwxr-x   11 admin  staff     352 Dec 15 09:11 \u001b[1m\u001b[36mchapter_appendix-tools-for-deep-learning\u001b[m\u001b[m/\r\n",
      "drwxrwxr-x   12 admin  staff     384 Dec 15 09:11 \u001b[1m\u001b[36mchapter_attention-mechanisms-and-transformers\u001b[m\u001b[m/\r\n",
      "drwxrwxr-x   14 admin  staff     448 Dec 15 09:11 \u001b[1m\u001b[36mchapter_builders-guide\u001b[m\u001b[m/\r\n",
      "drwxrwxr-x   11 admin  staff     352 Dec 15 09:11 \u001b[1m\u001b[36mchapter_computational-performance\u001b[m\u001b[m/\r\n",
      "drwxrwxr-x   18 admin  staff     576 Dec 15 09:11 \u001b[1m\u001b[36mchapter_computer-vision\u001b[m\u001b[m/\r\n",
      "drwxrwxr-x   11 admin  staff     352 Dec 15 09:11 \u001b[1m\u001b[36mchapter_convolutional-modern\u001b[m\u001b[m/\r\n",
      "drwxrwxr-x    9 admin  staff     288 Dec 15 09:11 \u001b[1m\u001b[36mchapter_convolutional-neural-networks\u001b[m\u001b[m/\r\n",
      "drwxrwxr-x    6 admin  staff     192 Dec 15 09:11 \u001b[1m\u001b[36mchapter_gaussian-processes\u001b[m\u001b[m/\r\n",
      "drwxrwxr-x    5 admin  staff     160 Dec 15 09:11 \u001b[1m\u001b[36mchapter_generative-adversarial-networks\u001b[m\u001b[m/\r\n",
      "drwxrwxr-x    9 admin  staff     288 Dec 15 09:11 \u001b[1m\u001b[36mchapter_hyperparameter-optimization\u001b[m\u001b[m/\r\n",
      "drwxrwxr-x    3 admin  staff      96 Dec 15 09:11 \u001b[1m\u001b[36mchapter_installation\u001b[m\u001b[m/\r\n",
      "drwxrwxr-x    3 admin  staff      96 Dec 15 09:11 \u001b[1m\u001b[36mchapter_introduction\u001b[m\u001b[m/\r\n",
      "drwxrwxr-x   10 admin  staff     320 Dec 15 09:11 \u001b[1m\u001b[36mchapter_linear-classification\u001b[m\u001b[m/\r\n",
      "drwxrwxr-x   10 admin  staff     320 Dec 15 09:11 \u001b[1m\u001b[36mchapter_linear-regression\u001b[m\u001b[m/\r\n",
      "drwxrwxr-x   11 admin  staff     352 Dec 15 09:11 \u001b[1m\u001b[36mchapter_multilayer-perceptrons\u001b[m\u001b[m/\r\n",
      "drwxrwxr-x   10 admin  staff     320 Dec 15 09:11 \u001b[1m\u001b[36mchapter_natural-language-processing-applications\u001b[m\u001b[m/\r\n",
      "drwxrwxr-x   13 admin  staff     416 Dec 15 09:11 \u001b[1m\u001b[36mchapter_natural-language-processing-pretraining\u001b[m\u001b[m/\r\n",
      "drwxrwxr-x    3 admin  staff      96 Dec 15 09:11 \u001b[1m\u001b[36mchapter_notation\u001b[m\u001b[m/\r\n",
      "drwxrwxr-x   14 admin  staff     448 Dec 15 09:11 \u001b[1m\u001b[36mchapter_optimization\u001b[m\u001b[m/\r\n",
      "drwxrwxr-x    3 admin  staff      96 Dec 15 09:11 \u001b[1m\u001b[36mchapter_preface\u001b[m\u001b[m/\r\n",
      "drwxrwxr-x   10 admin  staff     320 Dec 15 09:11 \u001b[1m\u001b[36mchapter_preliminaries\u001b[m\u001b[m/\r\n",
      "drwxrwxr-x   13 admin  staff     416 Dec 15 09:11 \u001b[1m\u001b[36mchapter_recommender-systems\u001b[m\u001b[m/\r\n",
      "drwxrwxr-x   11 admin  staff     352 Dec 15 09:11 \u001b[1m\u001b[36mchapter_recurrent-modern\u001b[m\u001b[m/\r\n",
      "drwxrwxr-x   10 admin  staff     320 Dec 15 09:11 \u001b[1m\u001b[36mchapter_recurrent-neural-networks\u001b[m\u001b[m/\r\n",
      "drwxrwxr-x    3 admin  staff      96 Dec 15 09:11 \u001b[1m\u001b[36mchapter_references\u001b[m\u001b[m/\r\n",
      "drwxrwxr-x    6 admin  staff     192 Dec 15 09:11 \u001b[1m\u001b[36mchapter_reinforcement-learning\u001b[m\u001b[m/\r\n",
      "drwxrwxr-x    8 admin  staff     256 Dec 15 09:11 \u001b[1m\u001b[36md2l\u001b[m\u001b[m/\r\n",
      "-rw-rw-r--    1 admin  staff  167997 Dec 15 09:11 d2l.bib\r\n",
      "drwxr-xr-x    5 admin  staff     160 Feb  6 14:33 \u001b[1m\u001b[36md2l_practice\u001b[m\u001b[m/\r\n",
      "drwxr-xr-x    3 admin  staff      96 Feb  6 14:30 \u001b[1m\u001b[36mdata\u001b[m\u001b[m/\r\n",
      "drwxrwxr-x  290 admin  staff    9280 Dec 15 09:11 \u001b[1m\u001b[36mimg\u001b[m\u001b[m/\r\n",
      "-rw-rw-r--    1 admin  staff    3117 Dec 15 09:11 index.ipynb\r\n",
      "-rw-rw-r--    1 admin  staff     549 Dec 15 09:11 setup.py\r\n",
      "drwxrwxr-x    3 admin  staff      96 Dec 15 09:11 \u001b[1m\u001b[36mstatic\u001b[m\u001b[m/\r\n"
     ]
    }
   ],
   "source": [
    "ls -al"
   ]
  },
  {
   "cell_type": "code",
   "execution_count": 12,
   "id": "6ff4813e",
   "metadata": {},
   "outputs": [
    {
     "name": "stdout",
     "output_type": "stream",
     "text": [
      "/Users/admin/d2l-en/pytorch/data\n"
     ]
    }
   ],
   "source": [
    "cd data"
   ]
  },
  {
   "cell_type": "code",
   "execution_count": 13,
   "id": "bb08c903",
   "metadata": {},
   "outputs": [
    {
     "name": "stdout",
     "output_type": "stream",
     "text": [
      "total 8\r\n",
      "drwxr-xr-x   3 admin  staff    96 Feb  6 14:30 \u001b[1m\u001b[36m.\u001b[m\u001b[m/\r\n",
      "drwxrwxr-x  38 admin  staff  1216 Feb  6 14:30 \u001b[1m\u001b[36m..\u001b[m\u001b[m/\r\n",
      "-rw-r--r--   1 admin  staff    76 Feb  6 14:30 house_tiny.csv\r\n"
     ]
    }
   ],
   "source": [
    "ls -al"
   ]
  },
  {
   "cell_type": "code",
   "execution_count": 14,
   "id": "3e68f914",
   "metadata": {},
   "outputs": [
    {
     "name": "stdout",
     "output_type": "stream",
     "text": [
      "/Users/admin/d2l-en/pytorch\n"
     ]
    }
   ],
   "source": [
    "cd .."
   ]
  },
  {
   "cell_type": "code",
   "execution_count": 15,
   "id": "7c33482d",
   "metadata": {},
   "outputs": [
    {
     "name": "stdout",
     "output_type": "stream",
     "text": [
      "total 352\r\n",
      "drwxrwxr-x   38 admin  staff    1216 Feb  6 14:30 \u001b[1m\u001b[36m.\u001b[m\u001b[m/\r\n",
      "drwxr-xr-x    6 admin  staff     192 Feb  6 13:14 \u001b[1m\u001b[36m..\u001b[m\u001b[m/\r\n",
      "drwxr-xr-x    2 admin  staff      64 Feb  6 13:28 \u001b[1m\u001b[36m.ipynb_checkpoints\u001b[m\u001b[m/\r\n",
      "drwxrwxr-x   15 admin  staff     480 Dec 15 09:11 \u001b[1m\u001b[36mchapter_appendix-mathematics-for-deep-learning\u001b[m\u001b[m/\r\n",
      "drwxrwxr-x   11 admin  staff     352 Dec 15 09:11 \u001b[1m\u001b[36mchapter_appendix-tools-for-deep-learning\u001b[m\u001b[m/\r\n",
      "drwxrwxr-x   12 admin  staff     384 Dec 15 09:11 \u001b[1m\u001b[36mchapter_attention-mechanisms-and-transformers\u001b[m\u001b[m/\r\n",
      "drwxrwxr-x   14 admin  staff     448 Dec 15 09:11 \u001b[1m\u001b[36mchapter_builders-guide\u001b[m\u001b[m/\r\n",
      "drwxrwxr-x   11 admin  staff     352 Dec 15 09:11 \u001b[1m\u001b[36mchapter_computational-performance\u001b[m\u001b[m/\r\n",
      "drwxrwxr-x   18 admin  staff     576 Dec 15 09:11 \u001b[1m\u001b[36mchapter_computer-vision\u001b[m\u001b[m/\r\n",
      "drwxrwxr-x   11 admin  staff     352 Dec 15 09:11 \u001b[1m\u001b[36mchapter_convolutional-modern\u001b[m\u001b[m/\r\n",
      "drwxrwxr-x    9 admin  staff     288 Dec 15 09:11 \u001b[1m\u001b[36mchapter_convolutional-neural-networks\u001b[m\u001b[m/\r\n",
      "drwxrwxr-x    6 admin  staff     192 Dec 15 09:11 \u001b[1m\u001b[36mchapter_gaussian-processes\u001b[m\u001b[m/\r\n",
      "drwxrwxr-x    5 admin  staff     160 Dec 15 09:11 \u001b[1m\u001b[36mchapter_generative-adversarial-networks\u001b[m\u001b[m/\r\n",
      "drwxrwxr-x    9 admin  staff     288 Dec 15 09:11 \u001b[1m\u001b[36mchapter_hyperparameter-optimization\u001b[m\u001b[m/\r\n",
      "drwxrwxr-x    3 admin  staff      96 Dec 15 09:11 \u001b[1m\u001b[36mchapter_installation\u001b[m\u001b[m/\r\n",
      "drwxrwxr-x    3 admin  staff      96 Dec 15 09:11 \u001b[1m\u001b[36mchapter_introduction\u001b[m\u001b[m/\r\n",
      "drwxrwxr-x   10 admin  staff     320 Dec 15 09:11 \u001b[1m\u001b[36mchapter_linear-classification\u001b[m\u001b[m/\r\n",
      "drwxrwxr-x   10 admin  staff     320 Dec 15 09:11 \u001b[1m\u001b[36mchapter_linear-regression\u001b[m\u001b[m/\r\n",
      "drwxrwxr-x   11 admin  staff     352 Dec 15 09:11 \u001b[1m\u001b[36mchapter_multilayer-perceptrons\u001b[m\u001b[m/\r\n",
      "drwxrwxr-x   10 admin  staff     320 Dec 15 09:11 \u001b[1m\u001b[36mchapter_natural-language-processing-applications\u001b[m\u001b[m/\r\n",
      "drwxrwxr-x   13 admin  staff     416 Dec 15 09:11 \u001b[1m\u001b[36mchapter_natural-language-processing-pretraining\u001b[m\u001b[m/\r\n",
      "drwxrwxr-x    3 admin  staff      96 Dec 15 09:11 \u001b[1m\u001b[36mchapter_notation\u001b[m\u001b[m/\r\n",
      "drwxrwxr-x   14 admin  staff     448 Dec 15 09:11 \u001b[1m\u001b[36mchapter_optimization\u001b[m\u001b[m/\r\n",
      "drwxrwxr-x    3 admin  staff      96 Dec 15 09:11 \u001b[1m\u001b[36mchapter_preface\u001b[m\u001b[m/\r\n",
      "drwxrwxr-x   10 admin  staff     320 Dec 15 09:11 \u001b[1m\u001b[36mchapter_preliminaries\u001b[m\u001b[m/\r\n",
      "drwxrwxr-x   13 admin  staff     416 Dec 15 09:11 \u001b[1m\u001b[36mchapter_recommender-systems\u001b[m\u001b[m/\r\n",
      "drwxrwxr-x   11 admin  staff     352 Dec 15 09:11 \u001b[1m\u001b[36mchapter_recurrent-modern\u001b[m\u001b[m/\r\n",
      "drwxrwxr-x   10 admin  staff     320 Dec 15 09:11 \u001b[1m\u001b[36mchapter_recurrent-neural-networks\u001b[m\u001b[m/\r\n",
      "drwxrwxr-x    3 admin  staff      96 Dec 15 09:11 \u001b[1m\u001b[36mchapter_references\u001b[m\u001b[m/\r\n",
      "drwxrwxr-x    6 admin  staff     192 Dec 15 09:11 \u001b[1m\u001b[36mchapter_reinforcement-learning\u001b[m\u001b[m/\r\n",
      "drwxrwxr-x    8 admin  staff     256 Dec 15 09:11 \u001b[1m\u001b[36md2l\u001b[m\u001b[m/\r\n",
      "-rw-rw-r--    1 admin  staff  167997 Dec 15 09:11 d2l.bib\r\n",
      "drwxr-xr-x    5 admin  staff     160 Feb  6 14:35 \u001b[1m\u001b[36md2l_practice\u001b[m\u001b[m/\r\n",
      "drwxr-xr-x    3 admin  staff      96 Feb  6 14:30 \u001b[1m\u001b[36mdata\u001b[m\u001b[m/\r\n",
      "drwxrwxr-x  290 admin  staff    9280 Dec 15 09:11 \u001b[1m\u001b[36mimg\u001b[m\u001b[m/\r\n",
      "-rw-rw-r--    1 admin  staff    3117 Dec 15 09:11 index.ipynb\r\n",
      "-rw-rw-r--    1 admin  staff     549 Dec 15 09:11 setup.py\r\n",
      "drwxrwxr-x    3 admin  staff      96 Dec 15 09:11 \u001b[1m\u001b[36mstatic\u001b[m\u001b[m/\r\n"
     ]
    }
   ],
   "source": [
    "ls -al\n"
   ]
  },
  {
   "cell_type": "code",
   "execution_count": 16,
   "id": "277b498f",
   "metadata": {},
   "outputs": [
    {
     "name": "stdout",
     "output_type": "stream",
     "text": [
      "/Users/admin/d2l-en/pytorch/d2l_practice\n"
     ]
    }
   ],
   "source": [
    "cd d2l_practice/"
   ]
  },
  {
   "cell_type": "code",
   "execution_count": 17,
   "id": "cd641ce0",
   "metadata": {},
   "outputs": [
    {
     "name": "stdout",
     "output_type": "stream",
     "text": [
      "   NumRooms RoofType   Price\n",
      "0       NaN      NaN  127500\n",
      "1       2.0      NaN  106000\n",
      "2       4.0    Slate  178100\n",
      "3       NaN      NaN  140000\n"
     ]
    }
   ],
   "source": [
    "print(data)"
   ]
  },
  {
   "cell_type": "code",
   "execution_count": 18,
   "id": "77f57116",
   "metadata": {},
   "outputs": [
    {
     "name": "stdout",
     "output_type": "stream",
     "text": [
      "   NumRooms  RoofType_Slate  RoofType_nan\n",
      "0       NaN               0             1\n",
      "1       2.0               0             1\n",
      "2       4.0               1             0\n",
      "3       NaN               0             1\n"
     ]
    }
   ],
   "source": [
    "inputs, targets = data.iloc[:, 0:2], data.iloc[:, 2]\n",
    "inputs = pd.get_dummies(inputs, dummy_na=True)\n",
    "print(inputs)"
   ]
  },
  {
   "cell_type": "code",
   "execution_count": 19,
   "id": "14c3a95d",
   "metadata": {},
   "outputs": [
    {
     "name": "stdout",
     "output_type": "stream",
     "text": [
      "   NumRooms  RoofType_Slate  RoofType_nan\n",
      "0       3.0               0             1\n",
      "1       2.0               0             1\n",
      "2       4.0               1             0\n",
      "3       3.0               0             1\n"
     ]
    }
   ],
   "source": [
    "inputs = inputs.fillna(inputs.mean())\n",
    "print(inputs)"
   ]
  },
  {
   "cell_type": "code",
   "execution_count": 20,
   "id": "40314811",
   "metadata": {},
   "outputs": [
    {
     "name": "stdout",
     "output_type": "stream",
     "text": [
      "['AbsTransform', 'AffineTransform', 'Bernoulli', 'Beta', 'Binomial', 'CatTransform', 'Categorical', 'Cauchy', 'Chi2', 'ComposeTransform', 'ContinuousBernoulli', 'CorrCholeskyTransform', 'CumulativeDistributionTransform', 'Dirichlet', 'Distribution', 'ExpTransform', 'Exponential', 'ExponentialFamily', 'FisherSnedecor', 'Gamma', 'Geometric', 'Gumbel', 'HalfCauchy', 'HalfNormal', 'Independent', 'IndependentTransform', 'Kumaraswamy', 'LKJCholesky', 'Laplace', 'LogNormal', 'LogisticNormal', 'LowRankMultivariateNormal', 'LowerCholeskyTransform', 'MixtureSameFamily', 'Multinomial', 'MultivariateNormal', 'NegativeBinomial', 'Normal', 'OneHotCategorical', 'OneHotCategoricalStraightThrough', 'Pareto', 'Poisson', 'PowerTransform', 'RelaxedBernoulli', 'RelaxedOneHotCategorical', 'ReshapeTransform', 'SigmoidTransform', 'SoftmaxTransform', 'SoftplusTransform', 'StackTransform', 'StickBreakingTransform', 'StudentT', 'TanhTransform', 'Transform', 'TransformedDistribution', 'Uniform', 'VonMises', 'Weibull', 'Wishart', '__all__', '__builtins__', '__cached__', '__doc__', '__file__', '__loader__', '__name__', '__package__', '__path__', '__spec__', 'bernoulli', 'beta', 'biject_to', 'binomial', 'categorical', 'cauchy', 'chi2', 'constraint_registry', 'constraints', 'continuous_bernoulli', 'dirichlet', 'distribution', 'exp_family', 'exponential', 'fishersnedecor', 'gamma', 'geometric', 'gumbel', 'half_cauchy', 'half_normal', 'identity_transform', 'independent', 'kl', 'kl_divergence', 'kumaraswamy', 'laplace', 'lkj_cholesky', 'log_normal', 'logistic_normal', 'lowrank_multivariate_normal', 'mixture_same_family', 'multinomial', 'multivariate_normal', 'negative_binomial', 'normal', 'one_hot_categorical', 'pareto', 'poisson', 'register_kl', 'relaxed_bernoulli', 'relaxed_categorical', 'studentT', 'transform_to', 'transformed_distribution', 'transforms', 'uniform', 'utils', 'von_mises', 'weibull', 'wishart']\n"
     ]
    }
   ],
   "source": [
    "print(dir(torch.distributions))"
   ]
  },
  {
   "cell_type": "code",
   "execution_count": null,
   "id": "26a6d436",
   "metadata": {},
   "outputs": [],
   "source": []
  }
 ],
 "metadata": {
  "kernelspec": {
   "display_name": "Python 3 (ipykernel)",
   "language": "python",
   "name": "python3"
  },
  "language_info": {
   "codemirror_mode": {
    "name": "ipython",
    "version": 3
   },
   "file_extension": ".py",
   "mimetype": "text/x-python",
   "name": "python",
   "nbconvert_exporter": "python",
   "pygments_lexer": "ipython3",
   "version": "3.9.16"
  }
 },
 "nbformat": 4,
 "nbformat_minor": 5
}
